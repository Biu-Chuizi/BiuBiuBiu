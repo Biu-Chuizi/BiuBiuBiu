{
 "cells": [
  {
   "cell_type": "code",
   "execution_count": 1,
   "id": "aa589bcf",
   "metadata": {},
   "outputs": [
    {
     "ename": "TabError",
     "evalue": "inconsistent use of tabs and spaces in indentation (<ipython-input-1-19207ae748f8>, line 20)",
     "output_type": "error",
     "traceback": [
      "\u001b[0;36m  File \u001b[0;32m\"<ipython-input-1-19207ae748f8>\"\u001b[0;36m, line \u001b[0;32m20\u001b[0m\n\u001b[0;31m    self.batchNorm1 = BatchNorm2d(128)\u001b[0m\n\u001b[0m                                      ^\u001b[0m\n\u001b[0;31mTabError\u001b[0m\u001b[0;31m:\u001b[0m inconsistent use of tabs and spaces in indentation\n"
     ]
    }
   ],
   "source": [
    "# import the necessary packages\n",
    "from torch.nn import ConvTranspose2d\n",
    "from torch.nn import BatchNorm2d\n",
    "from torch.nn import Conv2d\n",
    "from torch.nn import Linear\n",
    "from torch.nn import LeakyReLU\n",
    "from torch.nn import ReLU\n",
    "from torch.nn import Tanh\n",
    "from torch.nn import Sigmoid\n",
    "from torch import flatten\n",
    "from torch import nn  \n",
    "class Generator(nn.Module):\n",
    "    # outputChannels = 3 when color images\n",
    "    def __init__(self, inputDim=100, outputDim=512, outputChannels=1):   \n",
    "        super(Generator, self).__init__()\n",
    "        # first set of CONVT => RELU => BN\n",
    "        self.ct1 = ConvTranspose2d(in_channels=inputDim,\n",
    "            out_channels=128, kernel_size=4, stride=2, padding=0,\n",
    "            bias=False)\n",
    "        self.relu1 = ReLU()\n",
    "        self.batchNorm1 = BatchNorm2d(128)\n",
    "        # second set of CONVT => RELU => BN\n",
    "        self.ct2 = ConvTranspose2d(in_channels=128, out_channels=64,\n",
    "                    kernel_size=3, stride=2, padding=1, bias=False)\n",
    "        self.relu2 = ReLU()\n",
    "        self.batchNorm2 = BatchNorm2d(64)\n",
    "        # last set of CONVT => RELU => BN\n",
    "        self.ct3 = ConvTranspose2d(in_channels=64, out_channels=32,\n",
    "                    kernel_size=4, stride=2, padding=1, bias=False)\n",
    "        self.relu3 = ReLU()\n",
    "        self.batchNorm3 = BatchNorm2d(32)\n",
    "        # apply another upsample and transposed convolution, but\n",
    "        # this time output the TANH activation\n",
    "        self.ct4 = ConvTranspose2d(in_channels=32,\n",
    "            out_channels=outputChannels, kernel_size=4, stride=2,\n",
    "            padding=1, bias=False)\n",
    "        self.tanh = Tanh()\n"
   ]
  },
  {
   "cell_type": "code",
   "execution_count": null,
   "id": "2494907c",
   "metadata": {},
   "outputs": [],
   "source": [
    "    def forward(self, x):\n",
    "        # pass the input through our first set of CONVT => RELU => BN\n",
    "        # layers\n",
    "        x = self.ct1(x)\n",
    "        x = self.relu1(x)\n",
    "        x = self.batchNorm1(x)\n",
    "        # pass the output from previous layer through our second\n",
    "        # CONVT => RELU => BN layer set\n",
    "        x = self.ct2(x)\n",
    "        x = self.relu2(x)\n",
    "        x = self.batchNorm2(x)\n",
    "        # pass the output from previous layer through our last set\n",
    "        # of CONVT => RELU => BN layers\n",
    "        x = self.ct3(x)\n",
    "        x = self.relu3(x)\n",
    "        x = self.batchNorm3(x)\n",
    "        # pass the output from previous layer through CONVT2D => TANH\n",
    "        # layers to get our output\n",
    "        x = self.ct4(x)\n",
    "        output = self.tanh(x)\n",
    "        # return the output\n",
    "        return output"
   ]
  },
  {
   "cell_type": "code",
   "execution_count": null,
   "id": "011b9427",
   "metadata": {},
   "outputs": [],
   "source": [
    "class Discriminator(nn.Module):\n",
    "    def __init__(self, depth, alpha=0.2):\n",
    "        super(Discriminator, self).__init__()\n",
    "        # first set of CONV => RELU layers\n",
    "        self.conv1 = Conv2d(in_channels=depth, out_channels=32,\n",
    "                        kernel_size=4, stride=2, padding=1)\n",
    "        self.leakyRelu1 = LeakyReLU(alpha, inplace=True)\n",
    "        # second set of CONV => RELU layers\n",
    "        self.conv2 = Conv2d(in_channels=32, out_channels=64, kernel_size=4,\n",
    "                    stride=2, padding=1)\n",
    "        self.leakyRelu2 = LeakyReLU(alpha, inplace=True)\n",
    "        # first (and only) set of FC => RELU layers\n",
    "        self.fc1 = Linear(in_features=3136, out_features=512)\n",
    "        self.leakyRelu3 = LeakyReLU(alpha, inplace=True)\n",
    "        # sigmoid layer outputting a single value\n",
    "        self.fc2 = Linear(in_features=512, out_features=1)\n",
    "        self.sigmoid = Sigmoid()"
   ]
  },
  {
   "cell_type": "code",
   "execution_count": null,
   "id": "b006cb1a",
   "metadata": {},
   "outputs": [],
   "source": [
    "    def forward(self, x):\n",
    "        # pass the input through first set of CONV => RELU layers\n",
    "        x = self.conv1(x)\n",
    "        x = self.leakyRelu1(x)\n",
    "        # pass the output from the previous layer through our second\n",
    "        # set of CONV => RELU layers\n",
    "        x = self.conv2(x)\n",
    "        x = self.leakyRelu2(x)\n",
    "        # flatten the output from the previous layer and pass it\n",
    "        # through our first (and only) set of FC => RELU layers\n",
    "        x = flatten(x, 1)\n",
    "        x = self.fc1(x)\n",
    "        x = self.leakyRelu3(x)\n",
    "        # pass the output from the previous layer through our sigmoid\n",
    "        # layer outputting a single value\n",
    "        x = self.fc2(x)\n",
    "        output = self.sigmoid(x)\n",
    "        # return the output\n",
    "        return output"
   ]
  }
 ],
 "metadata": {
  "kernelspec": {
   "display_name": "Python 3",
   "language": "python",
   "name": "python3"
  },
  "language_info": {
   "codemirror_mode": {
    "name": "ipython",
    "version": 3
   },
   "file_extension": ".py",
   "mimetype": "text/x-python",
   "name": "python",
   "nbconvert_exporter": "python",
   "pygments_lexer": "ipython3",
   "version": "3.8.8"
  }
 },
 "nbformat": 4,
 "nbformat_minor": 5
}
