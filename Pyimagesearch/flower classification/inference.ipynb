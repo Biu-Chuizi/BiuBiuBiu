{
 "cells": [
  {
   "cell_type": "code",
   "execution_count": null,
   "id": "39ded8fc",
   "metadata": {},
   "outputs": [],
   "source": [
    "# USAGE\n",
    "# python inference.py --model output/warmup_model.pth\n",
    "# python inference.py --model output/finetune_model.pth\n",
    "# import the necessary packages\n",
    "from pyimagesearch import config\n",
    "from pyimagesearch import create_dataloaders\n",
    "from torchvision import transforms\n",
    "import matplotlib.pyplot as plt\n",
    "from torch import nn\n",
    "import argparse\n",
    "import torch"
   ]
  },
  {
   "cell_type": "code",
   "execution_count": null,
   "id": "dce3d8b3",
   "metadata": {},
   "outputs": [],
   "source": [
    "# construct the argument parser and parse the arguments\n",
    "ap = argparse.ArgumentParser()\n",
    "ap.add_argument(\"-m\", \"--model\", required=True,\n",
    "\thelp=\"path to trained model model\")\n",
    "args = vars(ap.parse_args())"
   ]
  },
  {
   "cell_type": "code",
   "execution_count": null,
   "id": "77372978",
   "metadata": {},
   "outputs": [],
   "source": [
    "# build our data pre-processing pipeline\n",
    "testTransform = transforms.Compose([\n",
    "\ttransforms.Resize((config.IMAGE_SIZE, config.IMAGE_SIZE)),\n",
    "\ttransforms.ToTensor(),\n",
    "\ttransforms.Normalize(mean=config.MEAN, std=config.STD)\n",
    "])\n",
    "# calculate the inverse mean and standard deviation\n",
    "invMean = [-m/s for (m, s) in zip(config.MEAN, config.STD)]\n",
    "invStd = [1/s for s in config.STD]\n",
    "# define our de-normalization transform\n",
    "deNormalize = transforms.Normalize(mean=invMean, std=invStd)"
   ]
  },
  {
   "cell_type": "code",
   "execution_count": null,
   "id": "34c09639",
   "metadata": {},
   "outputs": [],
   "source": [
    "# initialize our test dataset and data loader\n",
    "print(\"[INFO] loading the dataset...\")\n",
    "(testDS, testLoader) = create_dataloaders.get_dataloader(config.VAL,\n",
    "\ttransforms=testTransform, batchSize=config.PRED_BATCH_SIZE,\n",
    "\tshuffle=True)"
   ]
  },
  {
   "cell_type": "code",
   "execution_count": null,
   "id": "f9dcd055",
   "metadata": {},
   "outputs": [],
   "source": [
    "# check if we have a GPU available, if so, define the map location\n",
    "# accordingly\n",
    "if torch.cuda.is_available():\n",
    "\tmap_location = lambda storage, loc: storage.cuda()\n",
    "# otherwise, we will be using CPU to run our model\n",
    "else:\n",
    "\tmap_location = \"cpu\"\n",
    "# load the model\n",
    "print(\"[INFO] loading the model...\")\n",
    "model = torch.load(args[\"model\"], map_location=map_location)\n",
    "# move the model to the device and set it in evaluation mode\n",
    "model.to(config.DEVICE)\n",
    "model.eval()"
   ]
  },
  {
   "cell_type": "code",
   "execution_count": null,
   "id": "c7574e3e",
   "metadata": {},
   "outputs": [],
   "source": [
    "# grab a batch of test data\n",
    "batch = next(iter(testLoader))\n",
    "(images, labels) = (batch[0], batch[1])\n",
    "# initialize a figure\n",
    "fig = plt.figure(\"Results\", figsize=(10, 10))"
   ]
  },
  {
   "cell_type": "code",
   "execution_count": null,
   "id": "5afef900",
   "metadata": {},
   "outputs": [],
   "source": [
    "# switch off autograd\n",
    "with torch.no_grad():\n",
    "\t# send the images to the device\n",
    "\timages = images.to(config.DEVICE)\n",
    "\t# make the predictions\n",
    "\tprint(\"[INFO] performing inference...\")\n",
    "\tpreds = model(images)\n",
    "\t# loop over all the batch\n",
    "\tfor i in range(0, config.PRED_BATCH_SIZE):\n",
    "\t\t# initalize a subplot\n",
    "\t\tax = plt.subplot(config.PRED_BATCH_SIZE, 1, i + 1)\n",
    "\t\t# grab the image, de-normalize it, scale the raw pixel\n",
    "\t\t# intensities to the range [0, 255], and change the channel\n",
    "\t\t# ordering from channels first tp channels last\n",
    "\t\timage = images[i]\n",
    "\t\timage = deNormalize(image).cpu().numpy()\n",
    "\t\timage = (image * 255).astype(\"uint8\")\n",
    "\t\timage = image.transpose((1, 2, 0))\n",
    "\t\t# grab the ground truth label\n",
    "\t\tidx = labels[i].cpu().numpy()\n",
    "\t\tgtLabel = testDS.classes[idx]\n",
    "\t\t# grab the predicted label\n",
    "\t\tpred = preds[i].argmax().cpu().numpy()\n",
    "\t\tpredLabel = testDS.classes[pred]\n",
    "\t\t# add the results and image to the plot\n",
    "\t\tinfo = \"Ground Truth: {}, Predicted: {}\".format(gtLabel,\n",
    "\t\t\tpredLabel)\n",
    "\t\tplt.imshow(image)\n",
    "\t\tplt.title(info)\n",
    "\t\tplt.axis(\"off\")\n",
    "\t# show the plot\n",
    "\tplt.tight_layout()\n",
    "\tplt.show()"
   ]
  }
 ],
 "metadata": {
  "kernelspec": {
   "display_name": "Python 3",
   "language": "python",
   "name": "python3"
  },
  "language_info": {
   "codemirror_mode": {
    "name": "ipython",
    "version": 3
   },
   "file_extension": ".py",
   "mimetype": "text/x-python",
   "name": "python",
   "nbconvert_exporter": "python",
   "pygments_lexer": "ipython3",
   "version": "3.8.8"
  }
 },
 "nbformat": 4,
 "nbformat_minor": 5
}
