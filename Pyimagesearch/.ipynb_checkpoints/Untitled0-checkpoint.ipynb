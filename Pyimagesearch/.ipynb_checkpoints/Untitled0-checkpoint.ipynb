{
 "cells": [
  {
   "cell_type": "code",
   "execution_count": 7,
   "metadata": {
    "executionInfo": {
     "elapsed": 437,
     "status": "ok",
     "timestamp": 1618556343121,
     "user": {
      "displayName": "郭哲",
      "photoUrl": "https://lh3.googleusercontent.com/a-/AOh14GhXfeYxo1p-bpyv_ylK3KdedkzOJOne6g8upr7t=s64",
      "userId": "02469894054060408639"
     },
     "user_tz": -540
    },
    "id": "IZRFv_h7dqqP"
   },
   "outputs": [],
   "source": [
    "from imutils.object_detection import non_max_suppression\n",
    "import numpy as np\n",
    "import argparse\n",
    "import cv2"
   ]
  },
  {
   "cell_type": "code",
   "execution_count": 8,
   "metadata": {
    "colab": {
     "base_uri": "https://localhost:8080/",
     "height": 191
    },
    "executionInfo": {
     "elapsed": 463,
     "status": "error",
     "timestamp": 1618556344276,
     "user": {
      "displayName": "郭哲",
      "photoUrl": "https://lh3.googleusercontent.com/a-/AOh14GhXfeYxo1p-bpyv_ylK3KdedkzOJOne6g8upr7t=s64",
      "userId": "02469894054060408639"
     },
     "user_tz": -540
    },
    "id": "w4PszlVAd0x8",
    "outputId": "95b73c49-d89d-4b2f-bebe-86a7135b36b6"
   },
   "outputs": [
    {
     "name": "stderr",
     "output_type": "stream",
     "text": [
      "usage: ipykernel_launcher.py [-h] -i IMAGE -t TEMPLATE [-b THRESHOLD]\n",
      "ipykernel_launcher.py: error: the following arguments are required: -i/--image, -t/--template\n"
     ]
    },
    {
     "ename": "SystemExit",
     "evalue": "ignored",
     "output_type": "error",
     "traceback": [
      "An exception has occurred, use %tb to see the full traceback.\n",
      "\u001b[0;31mSystemExit\u001b[0m\u001b[0;31m:\u001b[0m 2\n"
     ]
    },
    {
     "name": "stderr",
     "output_type": "stream",
     "text": [
      "/usr/local/lib/python3.7/dist-packages/IPython/core/interactiveshell.py:2890: UserWarning: To exit: use 'exit', 'quit', or Ctrl-D.\n",
      "  warn(\"To exit: use 'exit', 'quit', or Ctrl-D.\", stacklevel=1)\n"
     ]
    }
   ],
   "source": [
    "# construct the argument parser and parse the arguments\n",
    "ap = argparse.ArgumentParser()\n",
    "ap.add_argument(\"-i\", \"--image\", type=str, required=True,\n",
    "\thelp=\"path to input image where we'll apply template matching\")\n",
    "ap.add_argument(\"-t\", \"--template\", type=str, required=True,\n",
    "\thelp=\"path to template image\")\n",
    "ap.add_argument(\"-b\", \"--threshold\", type=float, default=0.8,\n",
    "\thelp=\"threshold for multi-template matching\")\n",
    "args = vars(ap.parse_args())"
   ]
  },
  {
   "cell_type": "code",
   "execution_count": null,
   "metadata": {
    "id": "tlnSAns1d3OI"
   },
   "outputs": [],
   "source": [
    "# load the input image and template image from disk, then grab the\n",
    "# template image spatial dimensions\n",
    "print(\"[INFO] loading images...\")\n",
    "image = cv2.imread(args[\"image\"])\n",
    "template = cv2.imread(args[\"template\"])\n",
    "(tH, tW) = template.shape[:2]\n",
    "# display the  image and template to our screen\n",
    "cv2.imshow(\"Image\", image)\n",
    "cv2.imshow(\"Template\", template)"
   ]
  },
  {
   "cell_type": "code",
   "execution_count": null,
   "metadata": {
    "id": "KY7C07S4d5Iz"
   },
   "outputs": [],
   "source": [
    "# convert both the image and template to grayscale\n",
    "imageGray = cv2.cvtColor(image, cv2.COLOR_BGR2GRAY)\n",
    "templateGray = cv2.cvtColor(template, cv2.COLOR_BGR2GRAY)\n",
    "# perform template matching\n",
    "print(\"[INFO] performing template matching...\")\n",
    "result = cv2.matchTemplate(imageGray, templateGray,\n",
    "\tcv2.TM_CCOEFF_NORMED)"
   ]
  },
  {
   "cell_type": "code",
   "execution_count": null,
   "metadata": {
    "id": "KTJgxJZhd6np"
   },
   "outputs": [],
   "source": [
    "# find all locations in the result map where the matched value is\n",
    "# greater than the threshold, then clone our original image so we\n",
    "# can draw on it\n",
    "(yCoords, xCoords) = np.where(result >= args[\"threshold\"])\n",
    "clone = image.copy()\n",
    "print(\"[INFO] {} matched locations *before* NMS\".format(len(yCoords)))\n",
    "# loop over our starting (x, y)-coordinates\n",
    "for (x, y) in zip(xCoords, yCoords):\n",
    "\t# draw the bounding box on the image\n",
    "\tcv2.rectangle(clone, (x, y), (x + tW, y + tH),\n",
    "\t\t(255, 0, 0), 3)\n",
    "# show our output image *before* applying non-maxima suppression\n",
    "cv2.imshow(\"Before NMS\", clone)\n",
    "cv2.waitKey(0)"
   ]
  },
  {
   "cell_type": "code",
   "execution_count": 6,
   "metadata": {
    "colab": {
     "base_uri": "https://localhost:8080/",
     "height": 245
    },
    "executionInfo": {
     "elapsed": 452,
     "status": "error",
     "timestamp": 1618556271302,
     "user": {
      "displayName": "郭哲",
      "photoUrl": "https://lh3.googleusercontent.com/a-/AOh14GhXfeYxo1p-bpyv_ylK3KdedkzOJOne6g8upr7t=s64",
      "userId": "02469894054060408639"
     },
     "user_tz": -540
    },
    "id": "DOp6zbGhd8jP",
    "outputId": "b298d548-5e39-4deb-8535-49dda879d159"
   },
   "outputs": [
    {
     "ename": "NameError",
     "evalue": "ignored",
     "output_type": "error",
     "traceback": [
      "\u001b[0;31m---------------------------------------------------------------------------\u001b[0m",
      "\u001b[0;31mNameError\u001b[0m                                 Traceback (most recent call last)",
      "\u001b[0;32m<ipython-input-6-1016e8cce9df>\u001b[0m in \u001b[0;36m<module>\u001b[0;34m()\u001b[0m\n\u001b[1;32m      2\u001b[0m \u001b[0mrects\u001b[0m \u001b[0;34m=\u001b[0m \u001b[0;34m[\u001b[0m\u001b[0;34m]\u001b[0m\u001b[0;34m\u001b[0m\u001b[0;34m\u001b[0m\u001b[0m\n\u001b[1;32m      3\u001b[0m \u001b[0;31m# loop over the starting (x, y)-coordinates again\u001b[0m\u001b[0;34m\u001b[0m\u001b[0;34m\u001b[0m\u001b[0;34m\u001b[0m\u001b[0m\n\u001b[0;32m----> 4\u001b[0;31m \u001b[0;32mfor\u001b[0m \u001b[0;34m(\u001b[0m\u001b[0mx\u001b[0m\u001b[0;34m,\u001b[0m \u001b[0my\u001b[0m\u001b[0;34m)\u001b[0m \u001b[0;32min\u001b[0m \u001b[0mzip\u001b[0m\u001b[0;34m(\u001b[0m\u001b[0mxCoords\u001b[0m\u001b[0;34m,\u001b[0m \u001b[0myCoords\u001b[0m\u001b[0;34m)\u001b[0m\u001b[0;34m:\u001b[0m\u001b[0;34m\u001b[0m\u001b[0;34m\u001b[0m\u001b[0m\n\u001b[0m\u001b[1;32m      5\u001b[0m         \u001b[0;31m# update our list of rectangles\u001b[0m\u001b[0;34m\u001b[0m\u001b[0;34m\u001b[0m\u001b[0;34m\u001b[0m\u001b[0m\n\u001b[1;32m      6\u001b[0m         \u001b[0mrects\u001b[0m\u001b[0;34m.\u001b[0m\u001b[0mappend\u001b[0m\u001b[0;34m(\u001b[0m\u001b[0;34m(\u001b[0m\u001b[0mx\u001b[0m\u001b[0;34m,\u001b[0m \u001b[0my\u001b[0m\u001b[0;34m,\u001b[0m \u001b[0mx\u001b[0m \u001b[0;34m+\u001b[0m \u001b[0mtW\u001b[0m\u001b[0;34m,\u001b[0m \u001b[0my\u001b[0m \u001b[0;34m+\u001b[0m \u001b[0mtH\u001b[0m\u001b[0;34m)\u001b[0m\u001b[0;34m)\u001b[0m\u001b[0;34m\u001b[0m\u001b[0;34m\u001b[0m\u001b[0m\n",
      "\u001b[0;31mNameError\u001b[0m: name 'xCoords' is not defined"
     ]
    }
   ],
   "source": [
    "# initialize our list of rectangles\n",
    "rects = []\n",
    "# loop over the starting (x, y)-coordinates again\n",
    "for (x, y) in zip(xCoords, yCoords):\n",
    "\t# update our list of rectangles\n",
    "\trects.append((x, y, x + tW, y + tH))\n",
    "# apply non-maxima suppression to the rectangles\n",
    "pick = non_max_suppression(np.array(rects))\n",
    "print(\"[INFO] {} matched locations *after* NMS\".format(len(pick)))\n",
    "# loop over the final bounding boxes\n",
    "for (startX, startY, endX, endY) in pick:\n",
    "\t# draw the bounding box on the image\n",
    "\tcv2.rectangle(image, (startX, startY), (endX, endY),\n",
    "\t\t(255, 0, 0), 3)\n",
    "# show the output image\n",
    "cv2.imshow(\"After NMS\", image)\n",
    "cv2.waitKey(0)"
   ]
  },
  {
   "cell_type": "code",
   "execution_count": 11,
   "metadata": {
    "colab": {
     "base_uri": "https://localhost:8080/",
     "height": 209
    },
    "executionInfo": {
     "elapsed": 485,
     "status": "error",
     "timestamp": 1618556632558,
     "user": {
      "displayName": "郭哲",
      "photoUrl": "https://lh3.googleusercontent.com/a-/AOh14GhXfeYxo1p-bpyv_ylK3KdedkzOJOne6g8upr7t=s64",
      "userId": "02469894054060408639"
     },
     "user_tz": -540
    },
    "id": "gaAVhEP6da8Z",
    "outputId": "5d39d1e1-3dab-4049-a7ef-7fc0e69fec73"
   },
   "outputs": [
    {
     "ename": "NameError",
     "evalue": "ignored",
     "output_type": "error",
     "traceback": [
      "\u001b[0;31m---------------------------------------------------------------------------\u001b[0m",
      "\u001b[0;31mNameError\u001b[0m                                 Traceback (most recent call last)",
      "\u001b[0;32m<ipython-input-11-903226e525c0>\u001b[0m in \u001b[0;36m<module>\u001b[0;34m()\u001b[0m\n\u001b[1;32m      1\u001b[0m \u001b[0mimage\u001b[0m \u001b[0;34m=\u001b[0m \u001b[0mcv2\u001b[0m\u001b[0;34m.\u001b[0m\u001b[0mimread\u001b[0m\u001b[0;34m(\u001b[0m\u001b[0;34m'multi_template_matching_input.png'\u001b[0m\u001b[0;34m)\u001b[0m\u001b[0;34m\u001b[0m\u001b[0;34m\u001b[0m\u001b[0m\n\u001b[0;32m----> 2\u001b[0;31m \u001b[0mresult\u001b[0m \u001b[0;34m=\u001b[0m \u001b[0mcv2\u001b[0m\u001b[0;34m.\u001b[0m\u001b[0mmatchTemplate\u001b[0m\u001b[0;34m(\u001b[0m\u001b[0mimage\u001b[0m\u001b[0;34m,\u001b[0m \u001b[0mtemplate\u001b[0m\u001b[0;34m,\u001b[0m \u001b[0mcv2\u001b[0m\u001b[0;34m.\u001b[0m\u001b[0mTM_CCOEFF_NORMED\u001b[0m\u001b[0;34m)\u001b[0m\u001b[0;34m\u001b[0m\u001b[0;34m\u001b[0m\u001b[0m\n\u001b[0m\u001b[1;32m      3\u001b[0m \u001b[0;34m(\u001b[0m\u001b[0myCoords\u001b[0m\u001b[0;34m,\u001b[0m \u001b[0mxCoords\u001b[0m\u001b[0;34m)\u001b[0m \u001b[0;34m=\u001b[0m \u001b[0mnp\u001b[0m\u001b[0;34m.\u001b[0m\u001b[0mwhere\u001b[0m\u001b[0;34m(\u001b[0m\u001b[0mresult\u001b[0m \u001b[0;34m>=\u001b[0m \u001b[0margs\u001b[0m\u001b[0;34m[\u001b[0m\u001b[0;34m\"threshold\"\u001b[0m\u001b[0;34m]\u001b[0m\u001b[0;34m)\u001b[0m\u001b[0;34m\u001b[0m\u001b[0;34m\u001b[0m\u001b[0m\n",
      "\u001b[0;31mNameError\u001b[0m: name 'template' is not defined"
     ]
    }
   ],
   "source": [
    "image = cv2.imread('multi_template_matching_input.png')\n",
    "result = cv2.matchTemplate(image, template, cv2.TM_CCOEFF_NORMED)\n",
    "(yCoords, xCoords) = np.where(result >= args[\"threshold\"])"
   ]
  }
 ],
 "metadata": {
  "colab": {
   "authorship_tag": "ABX9TyORprT2lpHsQMXUZVI9d8ib",
   "name": "Untitled0.ipynb",
   "provenance": []
  },
  "kernelspec": {
   "display_name": "Python 3",
   "language": "python",
   "name": "python3"
  },
  "language_info": {
   "codemirror_mode": {
    "name": "ipython",
    "version": 3
   },
   "file_extension": ".py",
   "mimetype": "text/x-python",
   "name": "python",
   "nbconvert_exporter": "python",
   "pygments_lexer": "ipython3",
   "version": "3.8.8"
  }
 },
 "nbformat": 4,
 "nbformat_minor": 1
}
