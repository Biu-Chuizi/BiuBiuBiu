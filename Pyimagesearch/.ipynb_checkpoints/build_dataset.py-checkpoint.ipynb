{
 "cells": [
  {
   "cell_type": "code",
   "execution_count": null,
   "id": "8c16148d",
   "metadata": {},
   "outputs": [],
   "source": [
    "# USAGE\n",
    "# python build_dataset.py\n",
    "# import necessary packages\n",
    "from pyimagesearch import config\n",
    "from imutils import paths\n",
    "import numpy as np\n",
    "import shutil\n",
    "import os"
   ]
  },
  {
   "cell_type": "code",
   "execution_count": null,
   "id": "2f418bf6",
   "metadata": {},
   "outputs": [],
   "source": [
    "def copy_images(imagePaths, folder):\n",
    "    # check if the destination folder exists and if not create it\n",
    "    if not os.path.exists(folder):\n",
    "        os.makedirs(folder)\n",
    "    # loop over the image paths\n",
    "    for path in imagePaths:\n",
    "        # grab image name and its label from the path and create\n",
    "        # a placeholder corresponding to the separate label folder\n",
    "        imageName = path.split(os.path.sep)[-1]\n",
    "        label = path.split(os.path.sep)[1]\n",
    "        1labelFolder = os.path.join(folder, label)\n",
    "        # check to see if the label folder exists and if not create it\n",
    "        if not os.path.exists(labelFolder):\n",
    "            os.makedirs(labelFolder)\n",
    "        # construct the destination image path and copy the current\n",
    "        # image to it\n",
    "        destination = os.path.join(labelFolder, imageName)\n",
    "        shutil.copy(path, destination)"
   ]
  },
  {
   "cell_type": "code",
   "execution_count": null,
   "id": "2a849768",
   "metadata": {},
   "outputs": [],
   "source": [
    "# load all the image paths and randomly shuffle them\n",
    "print(\"[INFO] loading image paths...\")\n",
    "imagePaths = list(paths.list_images(config.DATA_PATH))\n",
    "np.random.shuffle(imagePaths)\n",
    "# generate training and validation paths\n",
    "valPathsLen = int(len(imagePaths) * config.VAL_SPLIT)\n",
    "trainPathsLen = len(imagePaths) - valPathsLen\n",
    "trainPaths = imagePaths[:trainPathsLen]\n",
    "valPaths = imagePaths[trainPathsLen:]\n",
    "# copy the training and validation images to their respective\n",
    "# directories\n",
    "print(\"[INFO] copying training and validation images...\")\n",
    "copy_images(trainPaths, config.TRAIN)\n",
    "copy_images(valPaths, config.VAL)"
   ]
  }
 ],
 "metadata": {
  "kernelspec": {
   "display_name": "Python 3",
   "language": "python",
   "name": "python3"
  },
  "language_info": {
   "codemirror_mode": {
    "name": "ipython",
    "version": 3
   },
   "file_extension": ".py",
   "mimetype": "text/x-python",
   "name": "python",
   "nbconvert_exporter": "python",
   "pygments_lexer": "ipython3",
   "version": "3.8.8"
  }
 },
 "nbformat": 4,
 "nbformat_minor": 5
}
