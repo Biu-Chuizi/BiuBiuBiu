{
 "cells": [
  {
   "cell_type": "code",
   "execution_count": null,
   "id": "bece6009",
   "metadata": {},
   "outputs": [],
   "source": [
    "# import the necessary packages\n",
    "from . import config\n",
    "from torch.utils.data import DataLoader\n",
    "from torchvision import datasets\n",
    "import os"
   ]
  },
  {
   "cell_type": "code",
   "execution_count": null,
   "id": "cd76e6bb",
   "metadata": {},
   "outputs": [],
   "source": [
    "def get_dataloader(rootDir, transforms, batchSize, shuffle=True):\n",
    "    # create a dataset and use it to create a data loader\n",
    "    ds = datasets.ImageFolder(root=rootDir,\n",
    "        transform=transforms)\n",
    "    loader = DataLoader(ds, batch_size=batchSize,\n",
    "        shuffle=shuffle,\n",
    "        num_workers=os.cpu_count(),\n",
    "        pin_memory=True if config.DEVICE == \"cuda\" else False)\n",
    "    # return a tuple of  the dataset and the data loader\n",
    "    return (ds, loader)"
   ]
  }
 ],
 "metadata": {
  "kernelspec": {
   "display_name": "Python 3",
   "language": "python",
   "name": "python3"
  },
  "language_info": {
   "codemirror_mode": {
    "name": "ipython",
    "version": 3
   },
   "file_extension": ".py",
   "mimetype": "text/x-python",
   "name": "python",
   "nbconvert_exporter": "python",
   "pygments_lexer": "ipython3",
   "version": "3.8.8"
  }
 },
 "nbformat": 4,
 "nbformat_minor": 5
}
