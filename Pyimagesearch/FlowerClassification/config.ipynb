{
 "cells": [
  {
   "cell_type": "code",
   "execution_count": null,
   "id": "a5060cc7",
   "metadata": {},
   "outputs": [],
   "source": [
    "# import the necessary packages\n",
    "import torch\n",
    "import os\n",
    "# define path to the original dataset and base path to the dataset\n",
    "# splits\n",
    "DATA_PATH = \"flower_photos\"\n",
    "BASE_PATH = \"dataset\"\n",
    "# define validation split and paths to separate train and validation\n",
    "# splits\n",
    "VAL_SPLIT = 0.1\n",
    "TRAIN = os.path.join(BASE_PATH, \"train\")\n",
    "VAL = os.path.join(BASE_PATH, \"val\")\n"
   ]
  },
  {
   "cell_type": "code",
   "execution_count": null,
   "id": "1625dbb7",
   "metadata": {},
   "outputs": [],
   "source": [
    "# specify ImageNet mean and standard deviation and image size\n",
    "MEAN = [0.485, 0.456, 0.406]\n",
    "STD = [0.229, 0.224, 0.225]\n",
    "IMAGE_SIZE = 224\n",
    "# determine the device to be used for training and evaluation\n",
    "DEVICE = \"cuda\" if torch.cuda.is_available() else \"cpu\""
   ]
  },
  {
   "cell_type": "code",
   "execution_count": null,
   "id": "93a18ac3",
   "metadata": {},
   "outputs": [],
   "source": [
    "# specify training hyperparameters\n",
    "FEATURE_EXTRACTION_BATCH_SIZE = 256\n",
    "FINETUNE_BATCH_SIZE = 64\n",
    "PRED_BATCH_SIZE = 4\n",
    "EPOCHS = 20\n",
    "LR = 0.001\n",
    "LR_FINETUNE = 0.0005"
   ]
  },
  {
   "cell_type": "code",
   "execution_count": null,
   "id": "ca57fd58",
   "metadata": {},
   "outputs": [],
   "source": [
    "# define paths to store training plots and trained model\n",
    "WARMUP_PLOT = os.path.join(\"output\", \"warmup.png\")\n",
    "FINETUNE_PLOT = os.path.join(\"output\", \"finetune.png\")\n",
    "WARMUP_MODEL = os.path.join(\"output\", \"warmup_model.pth\")\n",
    "FINETUNE_MODEL = os.path.join(\"output\", \"finetune_model.pth\")"
   ]
  },
  {
   "cell_type": "code",
   "execution_count": null,
   "id": "111f4e1b",
   "metadata": {},
   "outputs": [],
   "source": []
  }
 ],
 "metadata": {
  "kernelspec": {
   "display_name": "Python 3",
   "language": "python",
   "name": "python3"
  },
  "language_info": {
   "codemirror_mode": {
    "name": "ipython",
    "version": 3
   },
   "file_extension": ".py",
   "mimetype": "text/x-python",
   "name": "python",
   "nbconvert_exporter": "python",
   "pygments_lexer": "ipython3",
   "version": "3.8.8"
  }
 },
 "nbformat": 4,
 "nbformat_minor": 5
}
