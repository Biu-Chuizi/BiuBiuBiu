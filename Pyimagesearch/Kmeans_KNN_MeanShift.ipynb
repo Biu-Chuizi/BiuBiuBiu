{
 "cells": [
  {
   "cell_type": "code",
   "execution_count": null,
   "id": "af21d981",
   "metadata": {},
   "outputs": [],
   "source": [
    "# 采用Kmeans,KNN,Meanshif实现2D数据自动聚类\n",
    "\n",
    "import pandas as pd\n",
    "import numpy as np\n",
    "data = pd.read_csv('data.csv')\n",
    "data.head()\n"
   ]
  },
  {
   "cell_type": "code",
   "execution_count": 1,
   "id": "ef819f5b",
   "metadata": {},
   "outputs": [
    {
     "ename": "SyntaxError",
     "evalue": "invalid syntax (<ipython-input-1-77a2095d05d5>, line 2)",
     "output_type": "error",
     "traceback": [
      "\u001b[0;36m  File \u001b[0;32m\"<ipython-input-1-77a2095d05d5>\"\u001b[0;36m, line \u001b[0;32m2\u001b[0m\n\u001b[0;31m    Y = data.loc(:,[lables])\u001b[0m\n\u001b[0m                 ^\u001b[0m\n\u001b[0;31mSyntaxError\u001b[0m\u001b[0;31m:\u001b[0m invalid syntax\n"
     ]
    }
   ],
   "source": [
    "X = data.drop(['lables'], axis=1)\n",
    "Y = data.loc(:,[lables])\n",
    "Y.head()"
   ]
  },
  {
   "cell_type": "code",
   "execution_count": null,
   "id": "8a4f6dc2",
   "metadata": {},
   "outputs": [],
   "source": [
    "pd.value_counts(Y)\n"
   ]
  },
  {
   "cell_type": "code",
   "execution_count": null,
   "id": "eb5dc0cd",
   "metadata": {},
   "outputs": [],
   "source": [
    "from matplotlib import pyplot as plt\n",
    "fig1 = plt.figure()\n",
    "plt.scatter(X.loc[;,'V1'],X.loc[;,'V2'])\n",
    "plt.title(\"unlabled\")\n",
    "plt.xlabel('V1')\n",
    "plt.ylabel('V2')\n",
    "plt.show()"
   ]
  },
  {
   "cell_type": "code",
   "execution_count": null,
   "id": "2a2a1fcb",
   "metadata": {},
   "outputs": [],
   "source": [
    "fig1 = plt.figure()\n",
    "label0 = plt.scatter(X.loc[:,])"
   ]
  }
 ],
 "metadata": {
  "kernelspec": {
   "display_name": "Python 3",
   "language": "python",
   "name": "python3"
  },
  "language_info": {
   "codemirror_mode": {
    "name": "ipython",
    "version": 3
   },
   "file_extension": ".py",
   "mimetype": "text/x-python",
   "name": "python",
   "nbconvert_exporter": "python",
   "pygments_lexer": "ipython3",
   "version": "3.8.8"
  }
 },
 "nbformat": 4,
 "nbformat_minor": 5
}
